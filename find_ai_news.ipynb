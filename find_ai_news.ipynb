{
 "cells": [
  {
   "cell_type": "markdown",
   "metadata": {},
   "source": [
    "# Find AI NEWS "
   ]
  },
  {
   "cell_type": "code",
   "execution_count": 1,
   "metadata": {},
   "outputs": [],
   "source": [
    "AI_SEARCH_QUERIES = [\n",
    "    [\"New AI model\", \"AI model release\", \"AI model launch\", \"AI model update\", \"AI model upgrade\", \"AI model release date\"],\n",
    "    [\"AI open source\", \"HuggingFace\", \"AI Github\", \"AI Llama\"],\n",
    "    [\"AI breakthrough\", \"AI innovation\"],\n",
    "    [\"AI Tool\", \"AI feature\", \"AI software\", \"AI product\", \"AI service\", \"AI platform\", \"AI API\", \"AI application\", \"AI project\"],\n",
    "    [\"AI Assistant\", \"AI Personal Assistant\"],\n",
    "    [\"AI report\", \"AI book\", \"AI journal\", \"AI conference\", \"AI event\", \"AI competition\", \"AI challenge\", \"AI hackathon\", \"AI workshop\"],\n",
    "    [\"AI interview\", \"AI debate\", \"AI forum\"],\n",
    "    [\"AI business\", \"AI profession\", \"AI career\", \"AI job\", \"AI work\", \"AI employment\", \"AI salary\", \"AI income\", \"AI wage\", \"AI money\"],\n",
    "    [\"Generative AI\"],\n",
    "    [\"OpenAI\", \"GPT\"],\n",
    "    [\"Anthropic AI\", \"Claude AI\"],\n",
    "    [\"Gemini AI\", \"Google AI\", \"Deepmind\"],\n",
    "    [\"Mistral AI\"],\n",
    "    [\"Cohere AI\"],\n",
    "    [\"Meta AI\"],\n",
    "    [\"Perplexity AI\"],\n",
    "    [\"Microsoft AI\", \"Microsoft Copilot\"],\n",
    "    [\"AI Powered device\"],\n",
    "    [\"AI Robotics\", \"AI humanoid\", \"AI robot\", \"AI robots\"],\n",
    "    [\"AI research\", \"AI research paper\", \"AI research lab\", \"AI researcher\"],\n",
    "    [\"AI Agents\", \"AI Agent\", \"Autonomous AI\", \"AI Collaboration\"],\n",
    "    [\"LLM\", \"Large Language Model\", \"LLM Tokens\", \"LLM Context window\"],\n",
    "    [\"LLM Prompt\", \"LLM Prompting\", \"Prompt Engineering\", \"Prompt Tuning\", \"Prompt Evaluation\", \"Zero-shot LLM\", \"Few-shot LLM\"],\n",
    "    [\"LLM Training\", \"LLM Training data\", \"LLM Training cost\"],\n",
    "    [\"AI Dataset\", \"AI Datasets\"],\n",
    "    [\"AI Transformer\", \"AI Mamba\"],\n",
    "    [\"LLM Mobile\", \"LLM Phone\", \"Embedded LLM\", \"LLM on device\"],\n",
    "    [\"Small Language Model\", \"Small LLM\", \"AI SLM\"],\n",
    "    [\"AI Langchain\", \"AI Framework\", \"AI Library\", \"CrewAI\", \"LlamaIndex\"],\n",
    "    [\"AI Chatbot\"],\n",
    "    [\"low code AI\", \"no code AI\"],\n",
    "    [\"AI blockchain\"],\n",
    "    [\"AI Regulations\"],\n",
    "    [\"AI Intel\", \"AI groq\", \"AI AMD\", \"AI ARM\", \"AI Tesla Chips\", \"AI Tesla Dojo\"],\n",
    "    [\"AI Hardware\", \"AI Chip demand\", \"AI chip competition\"],\n",
    "    [\"AI Nvidia\"],\n",
    "    [\"AI Apple\"],\n",
    "    [\"AI Tesla\", \"AI Elon Musk\"],\n",
    "    [\"Twitter AI\", \"AI Grok\", \"xAI\"],\n",
    "    [\"AI Car\", \"AI self driving car\", \"AI autonomous car\", \"AI Waymo\", \"AI Cruise\", \"AI Uber\", \"AI Lyft\"],\n",
    "    [\"AI drone\"],\n",
    "    [\"AI Military\"],\n",
    "    [\"AI Competition\"],\n",
    "    [\"AI Startup\", \"AI Startups\"],\n",
    "    [\"AI funding\", \"AI investment\", \"AI venture capital\", \"AI acquisition\"],\n",
    "    [\"AI Avatar\", \"AI content generation\", \"AI content creation\", \"AI social media\", \"AI influencer\"],\n",
    "    [\"AI Adobe\"],\n",
    "    [\"AI tiktok\", \"AI Instagram\", \"AI Facebook\", \"AI Twitter\", \"AI Snapchat\", \"AI Youtube\", \"AI Reddit\", \"AI Pinterest\", \"AI Linkedin\"],\n",
    "    [\"AI Problem solving\", \"AI Reasoning\", \"AI planning\"],\n",
    "    [\"AI Cloud\", \"AI Cloud computing\", \"AI Cloud service\", \"AI Cloud platform\"],\n",
    "    [\"AI AWS\", \"AI Azure\", \"AI Google Cloud\"],\n",
    "    [\"AI Virtual Reality\", \"AI VR\", \"AI AR\", \"AI Augmented Reality\"],\n",
    "    [\"AI Video game\", \"AI Gaming\", \"AI Game\"],\n",
    "    [\"AI Education\", \"AI Learning\", \"AI School\", \"AI University\"],\n",
    "    [\"Explainable AI\", \"AI interpretability\", \"AI explainability\"],\n",
    "    [\"AI Image recognition\", \"Multimodal LLM\"],\n",
    "    [\"AI Image generation\", \"Midjourney\", \"OpenAI Dalle\", \"OpenAI Dall-e\", \"Stable diffusion\"],\n",
    "    [\"AI Video generation\", \"AI Video\", \"OpenAI Sora\", \"AI Video Analysis\", \"Google AI Lumiere\"],\n",
    "    [\"AI Music generation\", \"AI Music\"],\n",
    "    [\"AI Voice generation\", \"AI Voice synthesis\", \"AI voice recognition\"],\n",
    "    [\"AI Scandal\", \"AI Controversy\", \"AI trial\", \"AI lawsuit\"],\n",
    "    [\"AI Hack\", \"AI Cybersecurity\", \"AI Attack\", \"AI Jailbreak\"],\n",
    "    [\"AI Deepfake\", \"AI Deepfakes\", \"AI Deepfake detection\", \"AI Deepfake creation\"],\n",
    "    [\"AI detector\", \"AI detection\", \"AI detection tool\", \"AI detection software\"],\n",
    "    [\"AI Coding\", \"AI Programming\", \"Github Copilot\", \"AI Github\", \"AI Autonomous coding\"],\n",
    "    [\"AI AGI\", \"AI ASI\", \"AI Singularity\", \"AI Superintelligence\", \"AI SSI\"],\n",
    "    [\"AI Consciousness\", \"AI Sentience\", \"AI Emotion\", \"AI Creativity\", \"AI Art\"],\n",
    "    [\"AI Turing test\", \"AI Benchmark\", \"AI Evaluation\"],\n",
    "    [\"AI Brain\", \"AI Brain chip\"],\n",
    "    [\"Sam Altman\", \"Elon Musk AI\", \"Yann LeCun\", \"Ilya Sutskever\", \"Stuart Russell\", \"Demis Hassabis\", \"Jensen Huang\"],\n",
    "    [\"AI Economics\", \"AI Strategy\", \"AI Geopolitics\"],\n",
    "    [\"AI Power Usage\", \"AI Energy consumption\"],\n",
    "    [\"AI healthcare\"]\n",
    "]\n",
    "\n",
    "# TODO : localised searches \"AI China | IA France | AI Germany | AI UK | AI US | AI Russia | AI India | AI Japan | AI Korea | AI Canada | AI Australia\","
   ]
  },
  {
   "cell_type": "markdown",
   "metadata": {},
   "source": [
    "# Perform the search"
   ]
  },
  {
   "cell_type": "code",
   "execution_count": 2,
   "metadata": {},
   "outputs": [
    {
     "name": "stdout",
     "output_type": "stream",
     "text": [
      "Note: you may need to restart the kernel to use updated packages.\n"
     ]
    },
    {
     "name": "stderr",
     "output_type": "stream",
     "text": [
      "\n",
      "[notice] A new release of pip is available: 24.0 -> 24.1\n",
      "[notice] To update, run: python.exe -m pip install --upgrade pip\n"
     ]
    }
   ],
   "source": [
    "%pip install -q duckduckgo-search[lxml] tqdm pytz\n",
    "\n",
    "from duckduckgo_search import DDGS\n",
    "from pprint import pprint"
   ]
  },
  {
   "cell_type": "code",
   "execution_count": 4,
   "metadata": {},
   "outputs": [
    {
     "name": "stdout",
     "output_type": "stream",
     "text": [
      "Note: you may need to restart the kernel to use updated packages.\n"
     ]
    },
    {
     "name": "stderr",
     "output_type": "stream",
     "text": [
      "\n",
      "[notice] A new release of pip is available: 24.0 -> 24.1\n",
      "[notice] To update, run: python.exe -m pip install --upgrade pip\n"
     ]
    }
   ],
   "source": [
    "%pip install -q tenacity"
   ]
  },
  {
   "cell_type": "code",
   "execution_count": 7,
   "metadata": {},
   "outputs": [
    {
     "name": "stderr",
     "output_type": "stream",
     "text": [
      "Searching: 100%|██████████| 244/244 [22:12<00:00,  5.46s/it, query=AI healthcare]        "
     ]
    },
    {
     "name": "stdout",
     "output_type": "stream",
     "text": [
      "Found 12752 unique results\n",
      "Found 4076 duplicate URLs\n",
      "Total number of duplicate instances: 8942\n",
      "\n",
      "Top 10 duplicated URLs:\n",
      "https://www.infoworld.com/article/3715584/ai-development-on-a-copilot-pc-not-yet.html: 33 times\n",
      "https://mashable.com/article/ai-era-sparked-by-gamification: 25 times\n",
      "https://www.crn.com/news/ai/2024/the-10-most-well-funded-ai-startups-of-2024-so-far: 23 times\n",
      "https://www.crn.com/news/ai/2024/the-10-hottest-ai-startups-of-2024-so-far: 21 times\n",
      "https://www.usatoday.com/money/blueprint/investing/best-ai-stocks/: 20 times\n",
      "https://www.msn.com/en-us/news/technology/transcript-the-futurist-the-new-age-of-ai/ar-BB1oSys4: 18 times\n",
      "https://visualstudiomagazine.com/Articles/2024/06/26/coding-assistants.aspx: 18 times\n",
      "https://techcrunch.com/2024/06/26/this-week-in-ai-the-fate-of-generative-ai-is-in-the-courts-hands/: 17 times\n",
      "https://conventuslaw.com/report/flying-high-with-air-how-relativitys-generative-ai-solutions-embrace-rapid-innovation/: 16 times\n",
      "https://techcrunch.com/2024/06/17/chatgpt-everything-to-know-about-the-ai-chatbot/: 16 times\n"
     ]
    },
    {
     "name": "stderr",
     "output_type": "stream",
     "text": [
      "\n"
     ]
    }
   ],
   "source": [
    "from tqdm import tqdm\n",
    "import time\n",
    "from datetime import datetime\n",
    "import pytz\n",
    "import requests\n",
    "from duckduckgo_search.exceptions import RatelimitException\n",
    "from tenacity import retry, stop_after_attempt, wait_exponential\n",
    "from collections import defaultdict\n",
    "\n",
    "INITIAL_SLEEP_TIME = 5\n",
    "MAX_SLEEP_TIME = 60\n",
    "MAX_RESULTS = 100\n",
    "TIME_LIMIT = \"m\"\n",
    "MAX_RETRIES = 5\n",
    "TIMEOUT = 30  # seconds\n",
    "\n",
    "duplicates = defaultdict(int)\n",
    "\n",
    "@retry(stop=stop_after_attempt(MAX_RETRIES), \n",
    "       wait=wait_exponential(multiplier=2, min=INITIAL_SLEEP_TIME, max=MAX_SLEEP_TIME))\n",
    "def search_with_retry(ddgs: DDGS, query:str, max_results:int, timelimit:str):\n",
    "    try:\n",
    "        return list(ddgs.news(query, max_results=max_results, timelimit=timelimit))\n",
    "    except RatelimitException:\n",
    "        print(f\"Rate limit hit for query: {query}. Retrying...\")\n",
    "        raise\n",
    "    except requests.exceptions.Timeout:\n",
    "        print(f\"Timeout occurred for query: {query}. Retrying...\")\n",
    "        raise\n",
    "    except Exception as e:\n",
    "        print(f\"Unexpected error occurred for query: {query}: {str(e)}. Retrying...\")\n",
    "        raise\n",
    "\n",
    "def perform_search(queries: list[str]):\n",
    "    results = {}\n",
    "    ddgs = DDGS(timeout=TIMEOUT)\n",
    "\n",
    "    with tqdm(total=len(queries), desc=\"Searching\") as pbar:\n",
    "        for query in queries:\n",
    "            pbar.set_postfix(query=query)\n",
    "            try:\n",
    "                search_results = search_with_retry(ddgs, query, MAX_RESULTS, TIME_LIMIT)\n",
    "                for result in search_results:\n",
    "                    url = result['url']\n",
    "                    if url not in results:\n",
    "                        result['found_at'] = datetime.now(pytz.utc).isoformat()\n",
    "                        results[url] = result\n",
    "                    else:\n",
    "                        duplicates[url] += 1\n",
    "            except Exception as e:\n",
    "                print(f\"Failed to complete search for query: {query}. Error: {str(e)}\")\n",
    "            finally:\n",
    "                time.sleep(INITIAL_SLEEP_TIME)\n",
    "                pbar.update(1)\n",
    "    \n",
    "    return results\n",
    "\n",
    "results = perform_search([query for queries in AI_SEARCH_QUERIES for query in queries])\n",
    "\n",
    "print(f\"Found {len(results)} unique results\")\n",
    "print(f\"Found {len(duplicates)} duplicate URLs\")\n",
    "print(f\"Total number of duplicate instances: {sum(duplicates.values())}\")\n",
    "\n",
    "# If you want to see the URLs with the highest number of duplicates:\n",
    "top_duplicates = sorted(duplicates.items(), key=lambda x: x[1], reverse=True)[:10]\n",
    "print(\"\\nTop 10 duplicated URLs:\")\n",
    "for url, count in top_duplicates:\n",
    "    print(f\"{url}: {count} times\")\n"
   ]
  },
  {
   "cell_type": "markdown",
   "metadata": {},
   "source": [
    "### Convert the dates to datetime objects"
   ]
  },
  {
   "cell_type": "code",
   "execution_count": 9,
   "metadata": {},
   "outputs": [],
   "source": [
    "for result in results.values():\n",
    "    if isinstance(result['date'], str):\n",
    "        result['date'] = datetime.fromisoformat(result['date'])\n",
    "    if isinstance(result['found_at'], str):\n",
    "        result['found_at'] = datetime.fromisoformat(result['found_at'])\n",
    "\n",
    "assert all(isinstance(result['date'], datetime) for result in results.values())\n",
    "assert all(isinstance(result['found_at'], datetime) for result in results.values())"
   ]
  },
  {
   "cell_type": "markdown",
   "metadata": {},
   "source": [
    "### Some graphs"
   ]
  },
  {
   "cell_type": "code",
   "execution_count": 13,
   "metadata": {},
   "outputs": [
    {
     "data": {
      "image/png": "[encoded data removed]",
      "text/plain": [
       "<Figure size 1200x600 with 1 Axes>"
      ]
     },
     "metadata": {},
     "output_type": "display_data"
    }
   ],
   "source": [
    "import pandas as pd\n",
    "import matplotlib.pyplot as plt\n",
    "from datetime import datetime\n",
    "\n",
    "# Assuming 'results' is your dictionary of search results\n",
    "\n",
    "# Convert the results to a DataFrame\n",
    "df = pd.DataFrame(results.values())\n",
    "\n",
    "# Convert the 'date' column to datetime\n",
    "df['date'] = pd.to_datetime(df['date'])\n",
    "\n",
    "# Group by date and count the number of articles\n",
    "daily_counts = df.groupby(df['date'].dt.date).size().sort_index()\n",
    "\n",
    "# Create the plot\n",
    "plt.figure(figsize=(12, 6))\n",
    "daily_counts.plot(kind='bar')\n",
    "\n",
    "plt.title('Number of Articles Found per Day')\n",
    "plt.xlabel('Date')\n",
    "plt.ylabel('Number of Articles')\n",
    "plt.xticks(rotation=45)\n",
    "plt.tight_layout()\n",
    "\n",
    "# Show the plot\n",
    "plt.show()\n"
   ]
  },
  {
   "cell_type": "markdown",
   "metadata": {},
   "source": [
    "# MongoDB Export"
   ]
  },
  {
   "cell_type": "code",
   "execution_count": 10,
   "metadata": {},
   "outputs": [
    {
     "name": "stdout",
     "output_type": "stream",
     "text": [
      "Note: you may need to restart the kernel to use updated packages.\n"
     ]
    },
    {
     "name": "stderr",
     "output_type": "stream",
     "text": [
      "\n",
      "[notice] A new release of pip is available: 24.0 -> 24.1\n",
      "[notice] To update, run: python.exe -m pip install --upgrade pip\n"
     ]
    }
   ],
   "source": [
    "%pip install -q pymongo"
   ]
  },
  {
   "cell_type": "code",
   "execution_count": 11,
   "metadata": {},
   "outputs": [],
   "source": [
    "from dotenv import load_dotenv\n",
    "from pymongo import MongoClient\n",
    "import os\n",
    "\n",
    "load_dotenv()\n",
    "\n",
    "client = MongoClient(os.getenv(\"MONGODB_URI\"))\n",
    "\n",
    "db = client[\"blogdb\"]\n",
    "\n",
    "collection = db[\"ai_news\"]"
   ]
  },
  {
   "cell_type": "code",
   "execution_count": 14,
   "metadata": {},
   "outputs": [
    {
     "name": "stdout",
     "output_type": "stream",
     "text": [
      "Inserted 8729 documents\n",
      "Encountered 4023 errors\n"
     ]
    }
   ],
   "source": [
    "from pymongo.errors import BulkWriteError\n",
    "\n",
    "assert all(isinstance(result['date'], datetime) for result in results.values())\n",
    "assert all(isinstance(result['found_at'], datetime) for result in results.values())\n",
    "\n",
    "\n",
    "try:\n",
    "    result = collection.insert_many(results.values(), ordered=False)\n",
    "    print(f\"Inserted {len(result.inserted_ids)} documents\")\n",
    "except BulkWriteError as e:\n",
    "    print(f\"Inserted {e.details['nInserted']} documents\")\n",
    "    print(f\"Encountered {len(e.details['writeErrors'])} errors\") # number of duplicates\n"
   ]
  },
  {
   "cell_type": "markdown",
   "metadata": {},
   "source": [
    "# File Export "
   ]
  },
  {
   "cell_type": "code",
   "execution_count": 6,
   "metadata": {},
   "outputs": [],
   "source": [
    "from datetime import date"
   ]
  },
  {
   "cell_type": "markdown",
   "metadata": {},
   "source": [
    "### CSV"
   ]
  },
  {
   "cell_type": "code",
   "execution_count": 7,
   "metadata": {},
   "outputs": [],
   "source": [
    "import pandas as pd\n",
    "\n",
    "file_name = f\"ai_news_{date.today().isoformat()}.csv\"\n",
    "\n",
    "df = pd.DataFrame(results.values())\n",
    "\n",
    "df.to_csv(file_name, index=False)\n"
   ]
  },
  {
   "cell_type": "markdown",
   "metadata": {},
   "source": [
    "### JSON"
   ]
  },
  {
   "cell_type": "code",
   "execution_count": 49,
   "metadata": {},
   "outputs": [],
   "source": [
    "from json import dumps\n",
    "\n",
    "\n",
    "file_name = f\"ai_news_{date.today().isoformat()}.json\"\n",
    "\n",
    "with open(file_name, \"w\") as f:\n",
    "    f.write(dumps(results, indent=4))\n"
   ]
  }
 ],
 "metadata": {
  "kernelspec": {
   "display_name": "blog-db-crR3mef3-py3.12",
   "language": "python",
   "name": "python3"
  },
  "language_info": {
   "codemirror_mode": {
    "name": "ipython",
    "version": 3
   },
   "file_extension": ".py",
   "mimetype": "text/x-python",
   "name": "python",
   "nbconvert_exporter": "python",
   "pygments_lexer": "ipython3",
   "version": "3.12.1"
  }
 },
 "nbformat": 4,
 "nbformat_minor": 2
}
